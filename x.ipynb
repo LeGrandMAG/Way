{
 "cells": [
  {
   "cell_type": "code",
   "execution_count": 53,
   "metadata": {},
   "outputs": [],
   "source": [
    "import pandas as pd\n",
    "import csv\n",
    "import pymysql"
   ]
  },
  {
   "cell_type": "code",
   "execution_count": 54,
   "metadata": {},
   "outputs": [
    {
     "name": "stdout",
     "output_type": "stream",
     "text": [
      "['mysql']\n"
     ]
    }
   ],
   "source": [
    "#open database connection\n",
    "import configparser\n",
    "config = configparser.RawConfigParser()\n",
    "config.read(filenames=\"my.properties\")\n",
    "print(config.sections())"
   ]
  },
  {
   "cell_type": "code",
   "execution_count": 55,
   "metadata": {},
   "outputs": [],
   "source": [
    "h = config.get(\"mysql\",'hos')\n",
    "u = config.get(\"mysql\", \"user\")\n",
    "p = config.get(\"mysql\", \"password\")\n",
    "db = config.get(\"mysql\", \"db\")\n",
    "port = config.get(\"mysql\", \"port\")"
   ]
  },
  {
   "cell_type": "code",
   "execution_count": 56,
   "metadata": {},
   "outputs": [],
   "source": [
    "scrap_db = pymysql.connect(user=u,password=p, host=h, database=db)\n",
    "cursor = scrap_db.cursor()"
   ]
  },
  {
   "cell_type": "code",
   "execution_count": 57,
   "metadata": {},
   "outputs": [
    {
     "data": {
      "text/plain": [
       "0"
      ]
     },
     "execution_count": 57,
     "metadata": {},
     "output_type": "execute_result"
    }
   ],
   "source": [
    "cursor.execute(\"DROP TABLE IF EXISTS WIKI\")"
   ]
  },
  {
   "cell_type": "code",
   "execution_count": 59,
   "metadata": {},
   "outputs": [],
   "source": [
    "mysql_insert= \"\"\"INSERT INTO MAIN_COURSE(\n",
    "    NAME,\n",
    "    YEAR,\n",
    "    COURSEID,\n",
    "    CREDIT,\n",
    "    DURATION,\n",
    "    SCHEDULE,\n",
    "    TOTAL_STUDENTS,\n",
    "    NOTE\n",
    "    ) VALUES(%s,%s,%s,%s,%s,%s,%s,%s)\"\"\""
   ]
  },
  {
   "cell_type": "code",
   "execution_count": 60,
   "metadata": {},
   "outputs": [
    {
     "data": {
      "text/plain": [
       "'INSERT INTO MAIN_COURSE(\\n    NAME,\\n    YEAR,\\n    COURSEID,\\n    CREDIT,\\n    DURATION,\\n    SCHEDULE,\\n    TOTAL_STUDENTS,\\n    NOTE\\n    ) VALUES(%s,%s,%s,%s,%s,%s,%s,%s)'"
      ]
     },
     "execution_count": 60,
     "metadata": {},
     "output_type": "execute_result"
    }
   ],
   "source": [
    "mysql_insert"
   ]
  },
  {
   "cell_type": "code",
   "execution_count": 64,
   "metadata": {},
   "outputs": [],
   "source": [
    "coco = []\n",
    "with open(\"CourseCatalogue.csv\", \"r\", encoding=\"utf-8\") as f:\n",
    "    r = csv.reader(f)\n",
    "    header = next(r)\n",
    "    for row in r:\n",
    "        if row != []:\n",
    "            coco.append(row)\n",
    "\n"
   ]
  },
  {
   "cell_type": "code",
   "execution_count": 65,
   "metadata": {},
   "outputs": [],
   "source": [
    "recordInsert = coco"
   ]
  },
  {
   "cell_type": "code",
   "execution_count": 66,
   "metadata": {},
   "outputs": [
    {
     "ename": "TypeError",
     "evalue": "not all arguments converted during string formatting",
     "output_type": "error",
     "traceback": [
      "\u001b[1;31m---------------------------------------------------------------------------\u001b[0m",
      "\u001b[1;31mTypeError\u001b[0m                                 Traceback (most recent call last)",
      "\u001b[1;32mc:\\Users\\maglo\\OneDrive\\Documents\\CS\\My webapps\\Way\\x.ipynb Cell 10'\u001b[0m in \u001b[0;36m<cell line: 1>\u001b[1;34m()\u001b[0m\n\u001b[1;32m----> <a href='vscode-notebook-cell:/c%3A/Users/maglo/OneDrive/Documents/CS/My%20webapps/Way/x.ipynb#ch0000009?line=0'>1</a>\u001b[0m cursor\u001b[39m.\u001b[39;49mexecutemany(mysql_insert, recordInsert)\n",
      "File \u001b[1;32mc:\\Users\\maglo\\OneDrive\\Documents\\CS\\My webapps\\Way\\wayenv\\lib\\site-packages\\pymysql\\cursors.py:173\u001b[0m, in \u001b[0;36mCursor.executemany\u001b[1;34m(self, query, args)\u001b[0m\n\u001b[0;32m    <a href='file:///c%3A/Users/maglo/OneDrive/Documents/CS/My%20webapps/Way/wayenv/lib/site-packages/pymysql/cursors.py?line=170'>171</a>\u001b[0m     q_postfix \u001b[39m=\u001b[39m m\u001b[39m.\u001b[39mgroup(\u001b[39m3\u001b[39m) \u001b[39mor\u001b[39;00m \u001b[39m\"\u001b[39m\u001b[39m\"\u001b[39m\n\u001b[0;32m    <a href='file:///c%3A/Users/maglo/OneDrive/Documents/CS/My%20webapps/Way/wayenv/lib/site-packages/pymysql/cursors.py?line=171'>172</a>\u001b[0m     \u001b[39massert\u001b[39;00m q_values[\u001b[39m0\u001b[39m] \u001b[39m==\u001b[39m \u001b[39m\"\u001b[39m\u001b[39m(\u001b[39m\u001b[39m\"\u001b[39m \u001b[39mand\u001b[39;00m q_values[\u001b[39m-\u001b[39m\u001b[39m1\u001b[39m] \u001b[39m==\u001b[39m \u001b[39m\"\u001b[39m\u001b[39m)\u001b[39m\u001b[39m\"\u001b[39m\n\u001b[1;32m--> <a href='file:///c%3A/Users/maglo/OneDrive/Documents/CS/My%20webapps/Way/wayenv/lib/site-packages/pymysql/cursors.py?line=172'>173</a>\u001b[0m     \u001b[39mreturn\u001b[39;00m \u001b[39mself\u001b[39;49m\u001b[39m.\u001b[39;49m_do_execute_many(\n\u001b[0;32m    <a href='file:///c%3A/Users/maglo/OneDrive/Documents/CS/My%20webapps/Way/wayenv/lib/site-packages/pymysql/cursors.py?line=173'>174</a>\u001b[0m         q_prefix,\n\u001b[0;32m    <a href='file:///c%3A/Users/maglo/OneDrive/Documents/CS/My%20webapps/Way/wayenv/lib/site-packages/pymysql/cursors.py?line=174'>175</a>\u001b[0m         q_values,\n\u001b[0;32m    <a href='file:///c%3A/Users/maglo/OneDrive/Documents/CS/My%20webapps/Way/wayenv/lib/site-packages/pymysql/cursors.py?line=175'>176</a>\u001b[0m         q_postfix,\n\u001b[0;32m    <a href='file:///c%3A/Users/maglo/OneDrive/Documents/CS/My%20webapps/Way/wayenv/lib/site-packages/pymysql/cursors.py?line=176'>177</a>\u001b[0m         args,\n\u001b[0;32m    <a href='file:///c%3A/Users/maglo/OneDrive/Documents/CS/My%20webapps/Way/wayenv/lib/site-packages/pymysql/cursors.py?line=177'>178</a>\u001b[0m         \u001b[39mself\u001b[39;49m\u001b[39m.\u001b[39;49mmax_stmt_length,\n\u001b[0;32m    <a href='file:///c%3A/Users/maglo/OneDrive/Documents/CS/My%20webapps/Way/wayenv/lib/site-packages/pymysql/cursors.py?line=178'>179</a>\u001b[0m         \u001b[39mself\u001b[39;49m\u001b[39m.\u001b[39;49m_get_db()\u001b[39m.\u001b[39;49mencoding,\n\u001b[0;32m    <a href='file:///c%3A/Users/maglo/OneDrive/Documents/CS/My%20webapps/Way/wayenv/lib/site-packages/pymysql/cursors.py?line=179'>180</a>\u001b[0m     )\n\u001b[0;32m    <a href='file:///c%3A/Users/maglo/OneDrive/Documents/CS/My%20webapps/Way/wayenv/lib/site-packages/pymysql/cursors.py?line=181'>182</a>\u001b[0m \u001b[39mself\u001b[39m\u001b[39m.\u001b[39mrowcount \u001b[39m=\u001b[39m \u001b[39msum\u001b[39m(\u001b[39mself\u001b[39m\u001b[39m.\u001b[39mexecute(query, arg) \u001b[39mfor\u001b[39;00m arg \u001b[39min\u001b[39;00m args)\n\u001b[0;32m    <a href='file:///c%3A/Users/maglo/OneDrive/Documents/CS/My%20webapps/Way/wayenv/lib/site-packages/pymysql/cursors.py?line=182'>183</a>\u001b[0m \u001b[39mreturn\u001b[39;00m \u001b[39mself\u001b[39m\u001b[39m.\u001b[39mrowcount\n",
      "File \u001b[1;32mc:\\Users\\maglo\\OneDrive\\Documents\\CS\\My webapps\\Way\\wayenv\\lib\\site-packages\\pymysql\\cursors.py:196\u001b[0m, in \u001b[0;36mCursor._do_execute_many\u001b[1;34m(self, prefix, values, postfix, args, max_stmt_length, encoding)\u001b[0m\n\u001b[0;32m    <a href='file:///c%3A/Users/maglo/OneDrive/Documents/CS/My%20webapps/Way/wayenv/lib/site-packages/pymysql/cursors.py?line=193'>194</a>\u001b[0m sql \u001b[39m=\u001b[39m \u001b[39mbytearray\u001b[39m(prefix)\n\u001b[0;32m    <a href='file:///c%3A/Users/maglo/OneDrive/Documents/CS/My%20webapps/Way/wayenv/lib/site-packages/pymysql/cursors.py?line=194'>195</a>\u001b[0m args \u001b[39m=\u001b[39m \u001b[39miter\u001b[39m(args)\n\u001b[1;32m--> <a href='file:///c%3A/Users/maglo/OneDrive/Documents/CS/My%20webapps/Way/wayenv/lib/site-packages/pymysql/cursors.py?line=195'>196</a>\u001b[0m v \u001b[39m=\u001b[39m values \u001b[39m%\u001b[39;49m escape(\u001b[39mnext\u001b[39;49m(args), conn)\n\u001b[0;32m    <a href='file:///c%3A/Users/maglo/OneDrive/Documents/CS/My%20webapps/Way/wayenv/lib/site-packages/pymysql/cursors.py?line=196'>197</a>\u001b[0m \u001b[39mif\u001b[39;00m \u001b[39misinstance\u001b[39m(v, \u001b[39mstr\u001b[39m):\n\u001b[0;32m    <a href='file:///c%3A/Users/maglo/OneDrive/Documents/CS/My%20webapps/Way/wayenv/lib/site-packages/pymysql/cursors.py?line=197'>198</a>\u001b[0m     v \u001b[39m=\u001b[39m v\u001b[39m.\u001b[39mencode(encoding, \u001b[39m\"\u001b[39m\u001b[39msurrogateescape\u001b[39m\u001b[39m\"\u001b[39m)\n",
      "\u001b[1;31mTypeError\u001b[0m: not all arguments converted during string formatting"
     ]
    }
   ],
   "source": [
    "cursor.executemany(mysql_insert, recordInsert)\n"
   ]
  },
  {
   "cell_type": "code",
   "execution_count": 50,
   "metadata": {},
   "outputs": [
    {
     "data": {
      "text/html": [
       "<div>\n",
       "<style scoped>\n",
       "    .dataframe tbody tr th:only-of-type {\n",
       "        vertical-align: middle;\n",
       "    }\n",
       "\n",
       "    .dataframe tbody tr th {\n",
       "        vertical-align: top;\n",
       "    }\n",
       "\n",
       "    .dataframe thead th {\n",
       "        text-align: right;\n",
       "    }\n",
       "</style>\n",
       "<table border=\"1\" class=\"dataframe\">\n",
       "  <thead>\n",
       "    <tr style=\"text-align: right;\">\n",
       "      <th></th>\n",
       "      <th>CoursePl</th>\n",
       "      <th>Category</th>\n",
       "      <th>Year</th>\n",
       "      <th>CourseID</th>\n",
       "      <th>CourseName</th>\n",
       "      <th>Credit</th>\n",
       "      <th>Duration</th>\n",
       "      <th>Professor</th>\n",
       "      <th>Schedule</th>\n",
       "      <th>CurrentStudents</th>\n",
       "      <th>TotalStudents</th>\n",
       "      <th>Note</th>\n",
       "    </tr>\n",
       "  </thead>\n",
       "  <tbody>\n",
       "    <tr>\n",
       "      <th>0</th>\n",
       "      <td>조회</td>\n",
       "      <td>이중(부)전공</td>\n",
       "      <td>2</td>\n",
       "      <td>V41010101</td>\n",
       "      <td>고급파이썬프로그래밍</td>\n",
       "      <td>3</td>\n",
       "      <td>3</td>\n",
       "      <td>김아리</td>\n",
       "      <td>금 4 5 6 ( )</td>\n",
       "      <td>60</td>\n",
       "      <td>55</td>\n",
       "      <td>비대면(학기 전체), 타학년은 수강신청 전체날에만 신청 가능, 타전공은 개강 이후 ...</td>\n",
       "    </tr>\n",
       "    <tr>\n",
       "      <th>1</th>\n",
       "      <td>조회</td>\n",
       "      <td>이중(부)전공</td>\n",
       "      <td>2</td>\n",
       "      <td>V41010102</td>\n",
       "      <td>고급파이썬프로그래밍</td>\n",
       "      <td>3</td>\n",
       "      <td>3</td>\n",
       "      <td>김아리</td>\n",
       "      <td>금 1 2 3 ( )</td>\n",
       "      <td>52</td>\n",
       "      <td>55</td>\n",
       "      <td>비대면(학기 전체), 타학년은 수강신청 전체날에만 신청 가능, 타전공은 개강 이후 ...</td>\n",
       "    </tr>\n",
       "    <tr>\n",
       "      <th>2</th>\n",
       "      <td>조회</td>\n",
       "      <td>이중(부)전공</td>\n",
       "      <td>2</td>\n",
       "      <td>V41010103</td>\n",
       "      <td>고급파이썬프로그래밍</td>\n",
       "      <td>3</td>\n",
       "      <td>3</td>\n",
       "      <td>서성현</td>\n",
       "      <td>수 1 2 3 ( )</td>\n",
       "      <td>59</td>\n",
       "      <td>55</td>\n",
       "      <td>비대면(학기 전체), 타학년은 수강신청 전체날에만 신청 가능, 타전공은 개강 이후 ...</td>\n",
       "    </tr>\n",
       "    <tr>\n",
       "      <th>3</th>\n",
       "      <td>조회</td>\n",
       "      <td>이중(부)전공</td>\n",
       "      <td>2</td>\n",
       "      <td>V41002201</td>\n",
       "      <td>컴퓨터수학</td>\n",
       "      <td>3</td>\n",
       "      <td>3</td>\n",
       "      <td>허은주</td>\n",
       "      <td>월 1 2 3 ( )</td>\n",
       "      <td>52</td>\n",
       "      <td>50</td>\n",
       "      <td>비대면(학기 전체), 타학년은 수강신청 전체날에만 신청 가능, 타전공은 개강 이후 ...</td>\n",
       "    </tr>\n",
       "    <tr>\n",
       "      <th>4</th>\n",
       "      <td>조회</td>\n",
       "      <td>이중(부)전공</td>\n",
       "      <td>2</td>\n",
       "      <td>V41002202</td>\n",
       "      <td>컴퓨터수학</td>\n",
       "      <td>3</td>\n",
       "      <td>3</td>\n",
       "      <td>이민나</td>\n",
       "      <td>금 1 2 3 ( )</td>\n",
       "      <td>59</td>\n",
       "      <td>50</td>\n",
       "      <td>비대면(학기 전체), 타학년은 수강신청 전체날에만 신청 가능, 타전공은 개강 이후 ...</td>\n",
       "    </tr>\n",
       "  </tbody>\n",
       "</table>\n",
       "</div>"
      ],
      "text/plain": [
       "  CoursePl Category  Year   CourseID  CourseName  Credit  Duration Professor  \\\n",
       "0       조회  이중(부)전공     2  V41010101  고급파이썬프로그래밍       3         3       김아리   \n",
       "1       조회  이중(부)전공     2  V41010102  고급파이썬프로그래밍       3         3       김아리   \n",
       "2       조회  이중(부)전공     2  V41010103  고급파이썬프로그래밍       3         3       서성현   \n",
       "3       조회  이중(부)전공     2  V41002201       컴퓨터수학       3         3       허은주   \n",
       "4       조회  이중(부)전공     2  V41002202       컴퓨터수학       3         3       이민나   \n",
       "\n",
       "      Schedule  CurrentStudents  TotalStudents  \\\n",
       "0  금 4 5 6 ( )               60             55   \n",
       "1  금 1 2 3 ( )               52             55   \n",
       "2  수 1 2 3 ( )               59             55   \n",
       "3  월 1 2 3 ( )               52             50   \n",
       "4  금 1 2 3 ( )               59             50   \n",
       "\n",
       "                                                Note  \n",
       "0  비대면(학기 전체), 타학년은 수강신청 전체날에만 신청 가능, 타전공은 개강 이후 ...  \n",
       "1  비대면(학기 전체), 타학년은 수강신청 전체날에만 신청 가능, 타전공은 개강 이후 ...  \n",
       "2  비대면(학기 전체), 타학년은 수강신청 전체날에만 신청 가능, 타전공은 개강 이후 ...  \n",
       "3  비대면(학기 전체), 타학년은 수강신청 전체날에만 신청 가능, 타전공은 개강 이후 ...  \n",
       "4  비대면(학기 전체), 타학년은 수강신청 전체날에만 신청 가능, 타전공은 개강 이후 ...  "
      ]
     },
     "execution_count": 50,
     "metadata": {},
     "output_type": "execute_result"
    }
   ],
   "source": [
    "import pandas as pd\n",
    "data = pd.read_csv(\"CourseCatalogue.csv\")\n",
    "data.head()\n"
   ]
  }
 ],
 "metadata": {
  "interpreter": {
   "hash": "dd11b4b60f191167f6351b8e587ee8fa9e0106b078ecb7ae9ded1b6f1b7751fb"
  },
  "kernelspec": {
   "display_name": "Python 3.9.5 ('wayenv': venv)",
   "language": "python",
   "name": "python3"
  },
  "language_info": {
   "codemirror_mode": {
    "name": "ipython",
    "version": 3
   },
   "file_extension": ".py",
   "mimetype": "text/x-python",
   "name": "python",
   "nbconvert_exporter": "python",
   "pygments_lexer": "ipython3",
   "version": "3.9.5"
  },
  "orig_nbformat": 4
 },
 "nbformat": 4,
 "nbformat_minor": 2
}
